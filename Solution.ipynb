{
 "cells": [
  {
   "cell_type": "code",
   "execution_count": null,
   "id": "infrared-summit",
   "metadata": {},
   "outputs": [],
   "source": [
    "https://stackoverflow.com/questions/21133878/how-to-convert-data-from-an-excel-spreadsheet-to-a-suitable-representation-for-t"
   ]
  },
  {
   "cell_type": "code",
   "execution_count": 92,
   "id": "valuable-nebraska",
   "metadata": {},
   "outputs": [
    {
     "name": "stdout",
     "output_type": "stream",
     "text": [
      "Requirement already satisfied: openpyxl in /Users/lblachnicki/ml/my_env/lib/python3.7/site-packages (3.0.9)\n",
      "Requirement already satisfied: et-xmlfile in /Users/lblachnicki/ml/my_env/lib/python3.7/site-packages (from openpyxl) (1.1.0)\n",
      "\u001b[33mWARNING: You are using pip version 21.2.3; however, version 22.0.4 is available.\n",
      "You should consider upgrading via the '/Users/lblachnicki/ml/my_env/bin/python3 -m pip install --upgrade pip' command.\u001b[0m\n",
      "Collecting spacy_sentence_bert\n",
      "  Downloading spacy_sentence_bert-0.1.2.tar.gz (12 kB)\n",
      "Collecting sentence-transformers\n",
      "  Downloading sentence-transformers-2.2.0.tar.gz (79 kB)\n",
      "\u001b[K     |████████████████████████████████| 79 kB 1.3 MB/s eta 0:00:01\n",
      "\u001b[?25hRequirement already satisfied: spacy<4.0.0,>=3.0.0 in /Users/lblachnicki/ml/my_env/lib/python3.7/site-packages (from spacy_sentence_bert) (3.3.0)\n",
      "Collecting protobuf\n",
      "  Downloading protobuf-3.20.1-cp37-cp37m-macosx_10_9_x86_64.whl (961 kB)\n",
      "\u001b[K     |████████████████████████████████| 961 kB 2.2 MB/s eta 0:00:01\n",
      "\u001b[?25hRequirement already satisfied: tqdm<5.0.0,>=4.38.0 in /Users/lblachnicki/ml/my_env/lib/python3.7/site-packages (from spacy<4.0.0,>=3.0.0->spacy_sentence_bert) (4.64.0)\n",
      "Requirement already satisfied: setuptools in /Users/lblachnicki/ml/my_env/lib/python3.7/site-packages (from spacy<4.0.0,>=3.0.0->spacy_sentence_bert) (57.4.0)\n",
      "Requirement already satisfied: requests<3.0.0,>=2.13.0 in /Users/lblachnicki/ml/my_env/lib/python3.7/site-packages (from spacy<4.0.0,>=3.0.0->spacy_sentence_bert) (2.26.0)\n",
      "Requirement already satisfied: langcodes<4.0.0,>=3.2.0 in /Users/lblachnicki/ml/my_env/lib/python3.7/site-packages (from spacy<4.0.0,>=3.0.0->spacy_sentence_bert) (3.3.0)\n",
      "Requirement already satisfied: typer<0.5.0,>=0.3.0 in /Users/lblachnicki/ml/my_env/lib/python3.7/site-packages (from spacy<4.0.0,>=3.0.0->spacy_sentence_bert) (0.4.1)\n",
      "Requirement already satisfied: pydantic!=1.8,!=1.8.1,<1.9.0,>=1.7.4 in /Users/lblachnicki/ml/my_env/lib/python3.7/site-packages (from spacy<4.0.0,>=3.0.0->spacy_sentence_bert) (1.8.2)\n",
      "Requirement already satisfied: packaging>=20.0 in /Users/lblachnicki/ml/my_env/lib/python3.7/site-packages (from spacy<4.0.0,>=3.0.0->spacy_sentence_bert) (21.0)\n",
      "Requirement already satisfied: murmurhash<1.1.0,>=0.28.0 in /Users/lblachnicki/ml/my_env/lib/python3.7/site-packages (from spacy<4.0.0,>=3.0.0->spacy_sentence_bert) (1.0.7)\n",
      "Requirement already satisfied: typing-extensions<4.0.0.0,>=3.7.4 in /Users/lblachnicki/ml/my_env/lib/python3.7/site-packages (from spacy<4.0.0,>=3.0.0->spacy_sentence_bert) (3.10.0.0)\n",
      "Requirement already satisfied: spacy-legacy<3.1.0,>=3.0.9 in /Users/lblachnicki/ml/my_env/lib/python3.7/site-packages (from spacy<4.0.0,>=3.0.0->spacy_sentence_bert) (3.0.9)\n",
      "Requirement already satisfied: thinc<8.1.0,>=8.0.14 in /Users/lblachnicki/ml/my_env/lib/python3.7/site-packages (from spacy<4.0.0,>=3.0.0->spacy_sentence_bert) (8.0.15)\n",
      "Requirement already satisfied: srsly<3.0.0,>=2.4.3 in /Users/lblachnicki/ml/my_env/lib/python3.7/site-packages (from spacy<4.0.0,>=3.0.0->spacy_sentence_bert) (2.4.3)\n",
      "Requirement already satisfied: preshed<3.1.0,>=3.0.2 in /Users/lblachnicki/ml/my_env/lib/python3.7/site-packages (from spacy<4.0.0,>=3.0.0->spacy_sentence_bert) (3.0.6)\n",
      "Requirement already satisfied: catalogue<2.1.0,>=2.0.6 in /Users/lblachnicki/ml/my_env/lib/python3.7/site-packages (from spacy<4.0.0,>=3.0.0->spacy_sentence_bert) (2.0.7)\n",
      "Requirement already satisfied: wasabi<1.1.0,>=0.9.1 in /Users/lblachnicki/ml/my_env/lib/python3.7/site-packages (from spacy<4.0.0,>=3.0.0->spacy_sentence_bert) (0.9.1)\n",
      "Requirement already satisfied: cymem<2.1.0,>=2.0.2 in /Users/lblachnicki/ml/my_env/lib/python3.7/site-packages (from spacy<4.0.0,>=3.0.0->spacy_sentence_bert) (2.0.6)\n",
      "Requirement already satisfied: pathy>=0.3.5 in /Users/lblachnicki/ml/my_env/lib/python3.7/site-packages (from spacy<4.0.0,>=3.0.0->spacy_sentence_bert) (0.6.1)\n",
      "Requirement already satisfied: jinja2 in /Users/lblachnicki/ml/my_env/lib/python3.7/site-packages (from spacy<4.0.0,>=3.0.0->spacy_sentence_bert) (3.0.1)\n",
      "Requirement already satisfied: spacy-loggers<2.0.0,>=1.0.0 in /Users/lblachnicki/ml/my_env/lib/python3.7/site-packages (from spacy<4.0.0,>=3.0.0->spacy_sentence_bert) (1.0.2)\n",
      "Requirement already satisfied: blis<0.8.0,>=0.4.0 in /Users/lblachnicki/ml/my_env/lib/python3.7/site-packages (from spacy<4.0.0,>=3.0.0->spacy_sentence_bert) (0.7.7)\n",
      "Requirement already satisfied: numpy>=1.15.0 in /Users/lblachnicki/ml/my_env/lib/python3.7/site-packages (from spacy<4.0.0,>=3.0.0->spacy_sentence_bert) (1.21.2)\n",
      "Requirement already satisfied: zipp>=0.5 in /Users/lblachnicki/ml/my_env/lib/python3.7/site-packages (from catalogue<2.1.0,>=2.0.6->spacy<4.0.0,>=3.0.0->spacy_sentence_bert) (3.5.0)\n",
      "Requirement already satisfied: pyparsing>=2.0.2 in /Users/lblachnicki/ml/my_env/lib/python3.7/site-packages (from packaging>=20.0->spacy<4.0.0,>=3.0.0->spacy_sentence_bert) (2.4.7)\n",
      "Requirement already satisfied: smart-open<6.0.0,>=5.0.0 in /Users/lblachnicki/ml/my_env/lib/python3.7/site-packages (from pathy>=0.3.5->spacy<4.0.0,>=3.0.0->spacy_sentence_bert) (5.2.1)\n",
      "Requirement already satisfied: charset-normalizer~=2.0.0 in /Users/lblachnicki/ml/my_env/lib/python3.7/site-packages (from requests<3.0.0,>=2.13.0->spacy<4.0.0,>=3.0.0->spacy_sentence_bert) (2.0.4)\n",
      "Requirement already satisfied: certifi>=2017.4.17 in /Users/lblachnicki/ml/my_env/lib/python3.7/site-packages (from requests<3.0.0,>=2.13.0->spacy<4.0.0,>=3.0.0->spacy_sentence_bert) (2021.5.30)\n",
      "Requirement already satisfied: urllib3<1.27,>=1.21.1 in /Users/lblachnicki/ml/my_env/lib/python3.7/site-packages (from requests<3.0.0,>=2.13.0->spacy<4.0.0,>=3.0.0->spacy_sentence_bert) (1.26.6)\n",
      "Requirement already satisfied: idna<4,>=2.5 in /Users/lblachnicki/ml/my_env/lib/python3.7/site-packages (from requests<3.0.0,>=2.13.0->spacy<4.0.0,>=3.0.0->spacy_sentence_bert) (3.2)\n",
      "Requirement already satisfied: click<9.0.0,>=7.1.1 in /Users/lblachnicki/ml/my_env/lib/python3.7/site-packages (from typer<0.5.0,>=0.3.0->spacy<4.0.0,>=3.0.0->spacy_sentence_bert) (8.1.3)\n",
      "Requirement already satisfied: importlib-metadata in /Users/lblachnicki/ml/my_env/lib/python3.7/site-packages (from click<9.0.0,>=7.1.1->typer<0.5.0,>=0.3.0->spacy<4.0.0,>=3.0.0->spacy_sentence_bert) (4.6.4)\n",
      "Requirement already satisfied: MarkupSafe>=2.0 in /Users/lblachnicki/ml/my_env/lib/python3.7/site-packages (from jinja2->spacy<4.0.0,>=3.0.0->spacy_sentence_bert) (2.0.1)\n",
      "Collecting transformers<5.0.0,>=4.6.0\n",
      "  Downloading transformers-4.18.0-py3-none-any.whl (4.0 MB)\n",
      "\u001b[K     |████████████████████████████████| 4.0 MB 1.6 MB/s eta 0:00:01\n",
      "\u001b[?25hCollecting torch>=1.6.0\n",
      "  Downloading torch-1.11.0-cp37-none-macosx_10_9_x86_64.whl (129.9 MB)\n",
      "\u001b[K     |████████████████████████████████| 129.9 MB 70.2 MB/s eta 0:00:01\n",
      "\u001b[?25hCollecting torchvision\n",
      "  Downloading torchvision-0.12.0-cp37-cp37m-macosx_10_9_x86_64.whl (1.3 MB)\n",
      "\u001b[K     |████████████████████████████████| 1.3 MB 2.6 MB/s eta 0:00:01\n",
      "\u001b[?25hRequirement already satisfied: scikit-learn in /Users/lblachnicki/ml/my_env/lib/python3.7/site-packages (from sentence-transformers->spacy_sentence_bert) (0.24.2)\n",
      "Requirement already satisfied: scipy in /Users/lblachnicki/ml/my_env/lib/python3.7/site-packages (from sentence-transformers->spacy_sentence_bert) (1.7.1)\n",
      "Collecting nltk\n",
      "  Downloading nltk-3.7-py3-none-any.whl (1.5 MB)\n",
      "\u001b[K     |████████████████████████████████| 1.5 MB 28.3 MB/s eta 0:00:01\n",
      "\u001b[?25hCollecting sentencepiece\n",
      "  Downloading sentencepiece-0.1.96-cp37-cp37m-macosx_10_6_x86_64.whl (1.1 MB)\n",
      "\u001b[K     |████████████████████████████████| 1.1 MB 17.5 MB/s eta 0:00:01\n",
      "\u001b[?25hCollecting huggingface-hub\n",
      "  Downloading huggingface_hub-0.5.1-py3-none-any.whl (77 kB)\n",
      "\u001b[K     |████████████████████████████████| 77 kB 8.6 MB/s  eta 0:00:01\n",
      "\u001b[?25hCollecting tokenizers!=0.11.3,<0.13,>=0.11.1\n",
      "  Downloading tokenizers-0.12.1-cp37-cp37m-macosx_10_11_x86_64.whl (3.6 MB)\n",
      "\u001b[K     |████████████████████████████████| 3.6 MB 26.4 MB/s eta 0:00:01\n",
      "\u001b[?25hCollecting filelock\n",
      "  Downloading filelock-3.6.0-py3-none-any.whl (10.0 kB)\n",
      "Collecting sacremoses\n",
      "  Downloading sacremoses-0.0.53.tar.gz (880 kB)\n",
      "\u001b[K     |████████████████████████████████| 880 kB 23.4 MB/s eta 0:00:01\n",
      "\u001b[?25hCollecting pyyaml>=5.1\n",
      "  Downloading PyYAML-6.0-cp37-cp37m-macosx_10_9_x86_64.whl (189 kB)\n",
      "\u001b[K     |████████████████████████████████| 189 kB 26.4 MB/s eta 0:00:01\n"
     ]
    },
    {
     "name": "stdout",
     "output_type": "stream",
     "text": [
      "\u001b[?25hCollecting regex!=2019.12.17\n",
      "  Downloading regex-2022.4.24-cp37-cp37m-macosx_10_9_x86_64.whl (289 kB)\n",
      "\u001b[K     |████████████████████████████████| 289 kB 8.8 MB/s eta 0:00:01\n",
      "\u001b[?25hRequirement already satisfied: joblib in /Users/lblachnicki/ml/my_env/lib/python3.7/site-packages (from nltk->sentence-transformers->spacy_sentence_bert) (1.0.1)\n",
      "Requirement already satisfied: six in /Users/lblachnicki/ml/my_env/lib/python3.7/site-packages (from sacremoses->transformers<5.0.0,>=4.6.0->sentence-transformers->spacy_sentence_bert) (1.16.0)\n",
      "Requirement already satisfied: threadpoolctl>=2.0.0 in /Users/lblachnicki/ml/my_env/lib/python3.7/site-packages (from scikit-learn->sentence-transformers->spacy_sentence_bert) (2.2.0)\n",
      "Collecting pillow!=8.3.*,>=5.3.0\n",
      "  Downloading Pillow-9.1.0-cp37-cp37m-macosx_10_9_x86_64.whl (3.1 MB)\n",
      "\u001b[K     |████████████████████████████████| 3.1 MB 1.3 MB/s eta 0:00:01\n",
      "\u001b[?25hBuilding wheels for collected packages: spacy-sentence-bert, sentence-transformers, sacremoses\n",
      "  Building wheel for spacy-sentence-bert (setup.py) ... \u001b[?25ldone\n",
      "\u001b[?25h  Created wheel for spacy-sentence-bert: filename=spacy_sentence_bert-0.1.2-py3-none-any.whl size=27202 sha256=84173fb418a9f704b5ed5a0ef4ec6eed49f0c26c34aaa64fbfb6a0f3780e1f3d\n",
      "  Stored in directory: /Users/lblachnicki/Library/Caches/pip/wheels/54/e2/4a/e3f24fb6729ada3c83377de5217261c0e2f153c5a6f36d37d0\n",
      "  Building wheel for sentence-transformers (setup.py) ... \u001b[?25ldone\n",
      "\u001b[?25h  Created wheel for sentence-transformers: filename=sentence_transformers-2.2.0-py3-none-any.whl size=120748 sha256=c03a5921223848f51f77d2df300ef77158b9c76e6577a46293f409fa83317392\n",
      "  Stored in directory: /Users/lblachnicki/Library/Caches/pip/wheels/83/c0/df/b6873ab7aac3f2465aa9144b6b4c41c4391cfecc027c8b07e7\n",
      "  Building wheel for sacremoses (setup.py) ... \u001b[?25ldone\n",
      "\u001b[?25h  Created wheel for sacremoses: filename=sacremoses-0.0.53-py3-none-any.whl size=895260 sha256=286534af6d256029b96bb67578581a3aca6b62ef341151e5123e50aab5d96af9\n",
      "  Stored in directory: /Users/lblachnicki/Library/Caches/pip/wheels/87/39/dd/a83eeef36d0bf98e7a4d1933a4ad2d660295a40613079bafc9\n",
      "Successfully built spacy-sentence-bert sentence-transformers sacremoses\n",
      "Installing collected packages: regex, pyyaml, filelock, torch, tokenizers, sacremoses, pillow, huggingface-hub, transformers, torchvision, sentencepiece, nltk, sentence-transformers, protobuf, spacy-sentence-bert\n",
      "  Attempting uninstall: pillow\n",
      "    Found existing installation: Pillow 8.3.1\n",
      "    Uninstalling Pillow-8.3.1:\n",
      "      Successfully uninstalled Pillow-8.3.1\n",
      "Successfully installed filelock-3.6.0 huggingface-hub-0.5.1 nltk-3.7 pillow-9.1.0 protobuf-3.20.1 pyyaml-6.0 regex-2022.4.24 sacremoses-0.0.53 sentence-transformers-2.2.0 sentencepiece-0.1.96 spacy-sentence-bert-0.1.2 tokenizers-0.12.1 torch-1.11.0 torchvision-0.12.0 transformers-4.18.0\n",
      "\u001b[33mWARNING: You are using pip version 21.2.3; however, version 22.0.4 is available.\n",
      "You should consider upgrading via the '/Users/lblachnicki/ml/my_env/bin/python3 -m pip install --upgrade pip' command.\u001b[0m\n"
     ]
    }
   ],
   "source": [
    "# Install a pip package in the current Jupyter kernel\n",
    "import sys\n",
    "!{sys.executable} -m pip install openpyxl\n",
    "!{sys.executable} -m pip install spacy_sentence_bert"
   ]
  },
  {
   "cell_type": "code",
   "execution_count": 69,
   "id": "insured-brave",
   "metadata": {
    "scrolled": true
   },
   "outputs": [
    {
     "name": "stdout",
     "output_type": "stream",
     "text": [
      "Collecting en-core-web-sm==3.3.0\n",
      "  Downloading https://github.com/explosion/spacy-models/releases/download/en_core_web_sm-3.3.0/en_core_web_sm-3.3.0-py3-none-any.whl (12.8 MB)\n",
      "\u001b[K     |████████████████████████████████| 12.8 MB 1.2 MB/s eta 0:00:01\n",
      "\u001b[?25hRequirement already satisfied: spacy<3.4.0,>=3.3.0.dev0 in /Users/lblachnicki/ml/my_env/lib/python3.7/site-packages (from en-core-web-sm==3.3.0) (3.3.0)\n",
      "Requirement already satisfied: langcodes<4.0.0,>=3.2.0 in /Users/lblachnicki/ml/my_env/lib/python3.7/site-packages (from spacy<3.4.0,>=3.3.0.dev0->en-core-web-sm==3.3.0) (3.3.0)\n",
      "Requirement already satisfied: jinja2 in /Users/lblachnicki/ml/my_env/lib/python3.7/site-packages (from spacy<3.4.0,>=3.3.0.dev0->en-core-web-sm==3.3.0) (3.0.1)\n",
      "Requirement already satisfied: murmurhash<1.1.0,>=0.28.0 in /Users/lblachnicki/ml/my_env/lib/python3.7/site-packages (from spacy<3.4.0,>=3.3.0.dev0->en-core-web-sm==3.3.0) (1.0.7)\n",
      "Requirement already satisfied: spacy-legacy<3.1.0,>=3.0.9 in /Users/lblachnicki/ml/my_env/lib/python3.7/site-packages (from spacy<3.4.0,>=3.3.0.dev0->en-core-web-sm==3.3.0) (3.0.9)\n",
      "Requirement already satisfied: srsly<3.0.0,>=2.4.3 in /Users/lblachnicki/ml/my_env/lib/python3.7/site-packages (from spacy<3.4.0,>=3.3.0.dev0->en-core-web-sm==3.3.0) (2.4.3)\n",
      "Requirement already satisfied: typing-extensions<4.0.0.0,>=3.7.4 in /Users/lblachnicki/ml/my_env/lib/python3.7/site-packages (from spacy<3.4.0,>=3.3.0.dev0->en-core-web-sm==3.3.0) (3.10.0.0)\n",
      "Requirement already satisfied: thinc<8.1.0,>=8.0.14 in /Users/lblachnicki/ml/my_env/lib/python3.7/site-packages (from spacy<3.4.0,>=3.3.0.dev0->en-core-web-sm==3.3.0) (8.0.15)\n",
      "Requirement already satisfied: blis<0.8.0,>=0.4.0 in /Users/lblachnicki/ml/my_env/lib/python3.7/site-packages (from spacy<3.4.0,>=3.3.0.dev0->en-core-web-sm==3.3.0) (0.7.7)\n",
      "Requirement already satisfied: preshed<3.1.0,>=3.0.2 in /Users/lblachnicki/ml/my_env/lib/python3.7/site-packages (from spacy<3.4.0,>=3.3.0.dev0->en-core-web-sm==3.3.0) (3.0.6)\n",
      "Requirement already satisfied: requests<3.0.0,>=2.13.0 in /Users/lblachnicki/ml/my_env/lib/python3.7/site-packages (from spacy<3.4.0,>=3.3.0.dev0->en-core-web-sm==3.3.0) (2.26.0)\n",
      "Requirement already satisfied: setuptools in /Users/lblachnicki/ml/my_env/lib/python3.7/site-packages (from spacy<3.4.0,>=3.3.0.dev0->en-core-web-sm==3.3.0) (57.4.0)\n",
      "Requirement already satisfied: pydantic!=1.8,!=1.8.1,<1.9.0,>=1.7.4 in /Users/lblachnicki/ml/my_env/lib/python3.7/site-packages (from spacy<3.4.0,>=3.3.0.dev0->en-core-web-sm==3.3.0) (1.8.2)\n",
      "Requirement already satisfied: spacy-loggers<2.0.0,>=1.0.0 in /Users/lblachnicki/ml/my_env/lib/python3.7/site-packages (from spacy<3.4.0,>=3.3.0.dev0->en-core-web-sm==3.3.0) (1.0.2)\n",
      "Requirement already satisfied: tqdm<5.0.0,>=4.38.0 in /Users/lblachnicki/ml/my_env/lib/python3.7/site-packages (from spacy<3.4.0,>=3.3.0.dev0->en-core-web-sm==3.3.0) (4.64.0)\n",
      "Requirement already satisfied: cymem<2.1.0,>=2.0.2 in /Users/lblachnicki/ml/my_env/lib/python3.7/site-packages (from spacy<3.4.0,>=3.3.0.dev0->en-core-web-sm==3.3.0) (2.0.6)\n",
      "Requirement already satisfied: pathy>=0.3.5 in /Users/lblachnicki/ml/my_env/lib/python3.7/site-packages (from spacy<3.4.0,>=3.3.0.dev0->en-core-web-sm==3.3.0) (0.6.1)\n",
      "Requirement already satisfied: packaging>=20.0 in /Users/lblachnicki/ml/my_env/lib/python3.7/site-packages (from spacy<3.4.0,>=3.3.0.dev0->en-core-web-sm==3.3.0) (21.0)\n",
      "Requirement already satisfied: numpy>=1.15.0 in /Users/lblachnicki/ml/my_env/lib/python3.7/site-packages (from spacy<3.4.0,>=3.3.0.dev0->en-core-web-sm==3.3.0) (1.21.2)\n",
      "Requirement already satisfied: catalogue<2.1.0,>=2.0.6 in /Users/lblachnicki/ml/my_env/lib/python3.7/site-packages (from spacy<3.4.0,>=3.3.0.dev0->en-core-web-sm==3.3.0) (2.0.7)\n",
      "Requirement already satisfied: typer<0.5.0,>=0.3.0 in /Users/lblachnicki/ml/my_env/lib/python3.7/site-packages (from spacy<3.4.0,>=3.3.0.dev0->en-core-web-sm==3.3.0) (0.4.1)\n",
      "Requirement already satisfied: wasabi<1.1.0,>=0.9.1 in /Users/lblachnicki/ml/my_env/lib/python3.7/site-packages (from spacy<3.4.0,>=3.3.0.dev0->en-core-web-sm==3.3.0) (0.9.1)\n",
      "Requirement already satisfied: zipp>=0.5 in /Users/lblachnicki/ml/my_env/lib/python3.7/site-packages (from catalogue<2.1.0,>=2.0.6->spacy<3.4.0,>=3.3.0.dev0->en-core-web-sm==3.3.0) (3.5.0)\n",
      "Requirement already satisfied: pyparsing>=2.0.2 in /Users/lblachnicki/ml/my_env/lib/python3.7/site-packages (from packaging>=20.0->spacy<3.4.0,>=3.3.0.dev0->en-core-web-sm==3.3.0) (2.4.7)\n",
      "Requirement already satisfied: smart-open<6.0.0,>=5.0.0 in /Users/lblachnicki/ml/my_env/lib/python3.7/site-packages (from pathy>=0.3.5->spacy<3.4.0,>=3.3.0.dev0->en-core-web-sm==3.3.0) (5.2.1)\n",
      "Requirement already satisfied: urllib3<1.27,>=1.21.1 in /Users/lblachnicki/ml/my_env/lib/python3.7/site-packages (from requests<3.0.0,>=2.13.0->spacy<3.4.0,>=3.3.0.dev0->en-core-web-sm==3.3.0) (1.26.6)\n",
      "Requirement already satisfied: certifi>=2017.4.17 in /Users/lblachnicki/ml/my_env/lib/python3.7/site-packages (from requests<3.0.0,>=2.13.0->spacy<3.4.0,>=3.3.0.dev0->en-core-web-sm==3.3.0) (2021.5.30)\n",
      "Requirement already satisfied: charset-normalizer~=2.0.0 in /Users/lblachnicki/ml/my_env/lib/python3.7/site-packages (from requests<3.0.0,>=2.13.0->spacy<3.4.0,>=3.3.0.dev0->en-core-web-sm==3.3.0) (2.0.4)\n",
      "Requirement already satisfied: idna<4,>=2.5 in /Users/lblachnicki/ml/my_env/lib/python3.7/site-packages (from requests<3.0.0,>=2.13.0->spacy<3.4.0,>=3.3.0.dev0->en-core-web-sm==3.3.0) (3.2)\n",
      "Requirement already satisfied: click<9.0.0,>=7.1.1 in /Users/lblachnicki/ml/my_env/lib/python3.7/site-packages (from typer<0.5.0,>=0.3.0->spacy<3.4.0,>=3.3.0.dev0->en-core-web-sm==3.3.0) (8.1.3)\n",
      "Requirement already satisfied: importlib-metadata in /Users/lblachnicki/ml/my_env/lib/python3.7/site-packages (from click<9.0.0,>=7.1.1->typer<0.5.0,>=0.3.0->spacy<3.4.0,>=3.3.0.dev0->en-core-web-sm==3.3.0) (4.6.4)\n",
      "Requirement already satisfied: MarkupSafe>=2.0 in /Users/lblachnicki/ml/my_env/lib/python3.7/site-packages (from jinja2->spacy<3.4.0,>=3.3.0.dev0->en-core-web-sm==3.3.0) (2.0.1)\n",
      "Installing collected packages: en-core-web-sm\n",
      "Successfully installed en-core-web-sm-3.3.0\n",
      "\u001b[33mWARNING: You are using pip version 21.2.3; however, version 22.0.4 is available.\n",
      "You should consider upgrading via the '/Users/lblachnicki/ml/my_env/bin/python3 -m pip install --upgrade pip' command.\u001b[0m\n",
      "\u001b[38;5;2m✔ Download and installation successful\u001b[0m\n",
      "You can now load the package via spacy.load('en_core_web_sm')\n"
     ]
    }
   ],
   "source": [
    "\n",
    "!{sys.executable} -m spacy download en_core_web_sm"
   ]
  },
  {
   "cell_type": "markdown",
   "id": "modified-video",
   "metadata": {},
   "source": [
    "• Familiarise yourself with the concept of supervised learning (regression, classification)\n",
    "• Familiarise yourself with the concept of unsupervised learning (clustering)\n",
    "• Design and implement a data preprocessing pipeline\n",
    "• Select the regression method and perform experiments on the data\n",
    "• Select the classification method and perform experiments on the data\n",
    "• Select the clustering method and perform experiments on the data\n",
    "• Modify the default parameter values in the methods and repeat the experiments"
   ]
  },
  {
   "cell_type": "markdown",
   "id": "practical-battery",
   "metadata": {},
   "source": [
    "## Design and implement a data preprocessing pipeline"
   ]
  },
  {
   "cell_type": "code",
   "execution_count": 48,
   "id": "satellite-monitor",
   "metadata": {},
   "outputs": [
    {
     "data": {
      "image/png": "[encoded data removed]",
      "text/plain": [
       "<Figure size 432x288 with 1 Axes>"
      ]
     },
     "metadata": {
      "needs_background": "light"
     },
     "output_type": "display_data"
    },
    {
     "name": "stdout",
     "output_type": "stream",
     "text": [
      "(414, 7) (414,)\n",
      "(277, 7) (137, 7) (277,) (137,)\n",
      "(272, 7) (272,)\n",
      "MAE: 6.177\n"
     ]
    }
   ],
   "source": [
    "import os\n",
    "import pandas as pd\n",
    "import numpy as np\n",
    "from sklearn.model_selection import train_test_split\n",
    "from sklearn.linear_model import LinearRegression\n",
    "from sklearn.metrics import mean_absolute_error\n",
    "from sklearn.neighbors import LocalOutlierFactor\n",
    "# https://machinelearningmastery.com/how-to-use-statistics-to-identify-outliers-in-data/\n",
    "\n",
    "# read the data set\n",
    "notebook_path = os.path.abspath(\"Solution.ipynb\")\n",
    "source_path = os.path.join(os.path.dirname(notebook_path), \"datasets/regression/Real estate valuation data set.xlsx\")\n",
    "df = pd.read_excel(source_path,engine='openpyxl')\n",
    "\n",
    "%matplotlib inline\n",
    "import matplotlib.pyplot as plt\n",
    "\n",
    "df.plot(kind=\"scatter\", x=\"X1 transaction date\",y=\"Y house price of unit area\", color=\"b\", label=\"a vs. x\")\n",
    "plt.show()\n",
    "\n",
    "data = df.values\n",
    "\n",
    "# split into inputs and outputs\n",
    "X, y = data[:, :-1], data[:, -1]\n",
    "print(X.shape, y.shape)\n",
    "\n",
    "# split into test and train sets\n",
    "X_train, X_test, y_train, y_test = train_test_split(X, y, test_size=0.33, random_state=1)\n",
    "print(X_train.shape, X_test.shape, y_train.shape, y_test.shape)\n",
    "\n",
    "# identify outliers in the training dataset\n",
    "lof = LocalOutlierFactor()\n",
    "yhat = lof.fit_predict(X_train)\n",
    "# select all rows that are not outliers\n",
    "mask = yhat != -1\n",
    "X_train, y_train = X_train[mask, :], y_train[mask]\n",
    "# summarize the shape of the updated training dataset\n",
    "print(X_train.shape, y_train.shape)\n",
    "# fit the model\n",
    "model = LinearRegression()\n",
    "model.fit(X_train, y_train)\n",
    "# evaluate the model\n",
    "yhat = model.predict(X_test)\n",
    "# evaluate predictions\n",
    "mae = mean_absolute_error(y_test, yhat)\n",
    "print('MAE: %.3f' % mae)"
   ]
  },
  {
   "cell_type": "code",
   "execution_count": 26,
   "id": "handy-victor",
   "metadata": {},
   "outputs": [
    {
     "name": "stdout",
     "output_type": "stream",
     "text": [
      "(array([], dtype=int64), array([], dtype=int64))\n",
      "[41.92607195 42.98181718 48.6785788  50.07301921 45.72775183 30.15897974\n",
      " 38.69983736 47.24618489 19.42375    22.94735298 38.46678835 59.16936281\n",
      " 40.24359173 24.31120742 34.1875     47.84545544 69.40325    37.70420806\n",
      " 41.78470902 48.55206589 29.404575   52.47974755 25.72595451 51.10474846\n",
      " 36.59995952 26.10069682 54.97237827 37.59359143 43.24960666 52.9031313\n",
      " 21.70375    31.26179566 35.6622804  48.54006751 51.43590161 31.01\n",
      " 23.440548   26.87059263 45.93780556 49.61561425 15.80899921 18.81585714\n",
      " 34.78839471 37.45966333 52.07839594 37.91105348 41.37338589 52.22598595\n",
      " 14.26400278 14.22286111 41.70615308 21.71224277 25.67913425 39.29204004\n",
      " 51.1226926  13.87716667 39.91806214 54.6622289  21.80975    35.98324333\n",
      " 23.53559688 60.31442927 26.35690312 52.37159594 25.26405841 50.78478795\n",
      " 50.72903251 55.22274619 37.47332104 42.11415626 59.28508344 40.25555633\n",
      " 40.84075326 17.36693849 53.00526148 28.79232814 40.92414913 25.24596929\n",
      " 31.9166216  26.17940167 42.33707871 37.04856605 45.53225389 20.60625962\n",
      " 41.26476643 49.73837307 26.59650534 18.8198     45.1754     23.75921396\n",
      " 47.1787721  42.6196     24.22294623 15.2271754  46.74655716 50.44471673\n",
      " 60.52428185 37.46120702 49.76824687 60.52428185 38.87614231 33.53656667\n",
      " 50.859966   46.14348926 33.23504776 69.22077778 47.16477318 27.92429005\n",
      " 37.80341998 29.60204464 50.69927284 44.16529574 24.50190943 17.75725587\n",
      " 48.78351874 41.61763251 13.5        15.77554087 28.37126981 55.93336142\n",
      " 38.14268452 43.23222679 36.53048101 48.83496667 54.27432234 48.16775424\n",
      " 52.17843681 57.11994167 56.44580323 45.67105932 38.81638867 31.62567321\n",
      " 38.47628421 40.22809711 41.53464933 22.41882765 45.61727746 46.47854512\n",
      " 41.31263113 40.75630718 49.64012655 27.41541516 39.73729628 43.23222679\n",
      " 27.15256485 47.53563198 50.23141157 45.03172222 37.7666     41.50051445\n",
      " 48.72002815 46.24765481 27.90346088 43.65534434 19.92940714 17.36693849\n",
      " 19.21797727 40.33567559 42.68511232 38.79145547 56.44821501 40.19558274\n",
      " 12.79428571 55.22274619 53.60660562 29.17847922 68.120175   42.72552119\n",
      " 36.42541148 24.63851494 15.18871032 57.20799445 59.28508344 36.70493569\n",
      " 45.93661148 38.14963073 17.62462619 43.33209029 35.15083333 40.95356355\n",
      " 15.13793968 53.10477957 25.290081   19.28455    22.74503308 22.9286946\n",
      " 25.86858915 23.03710699 44.54126541 18.16125714 40.43590261 38.32742553\n",
      " 49.27285192 50.19481652 31.63923584 32.34708997 38.74313519 47.20061367\n",
      " 41.61579822 35.70885881 25.56001121 45.92287894 34.10172073 46.73000212\n",
      " 26.17940167 24.47518028 43.10071964 37.3962178  26.74606172 41.53774274\n",
      " 50.37038291 47.73147106 30.95145455 57.20036063 22.36131089 43.96914888\n",
      " 38.40573312 39.25321962 41.94448505 38.9664321  64.52830537 40.4775\n",
      " 44.76089686 42.6196     47.12928246 48.02532809 14.45477698 41.46324536\n",
      " 42.17       18.64725    31.62567321 15.43325119 16.89706111 35.30200348\n",
      " 25.06147065 40.606305   55.14499918 39.8281541  40.11551044 30.0376319\n",
      " 27.65894183 43.33108572 31.4107099  46.02466838 25.08300958 42.26168259\n",
      " 38.91684771 24.26271088 22.7232495  15.14499307 33.41882375 13.94015873\n",
      " 53.86643909 25.76365435 52.36206647 16.5738     31.7114361  41.11993726\n",
      " 68.120175   27.31707919 27.75664571 24.22559723 49.55766388 31.64791607\n",
      " 37.47914246 39.1242562  23.22770353 38.74854712 41.16184294 25.74091895\n",
      " 87.88812608 30.61790514 40.52535966 35.43198831 39.29849659 48.55206589\n",
      " 33.8292852  26.69549752 46.14348926 30.32657537 46.01135717 45.50254369\n",
      " 26.2874508  26.58325    38.14373806 46.56727508 55.80801241 33.4462852\n",
      " 52.51703126 48.20412355 37.87210859 54.24648286 29.31373459 40.34909903\n",
      " 39.48540428 24.42661673 35.01466667 32.01097767 16.28024802 46.68355022\n",
      " 42.72725705 35.88834839 24.2812886  39.18761875 28.24761129 51.1569426\n",
      " 44.85131688 23.71984007 49.76824687 19.21709422 25.74600664 40.8414665\n",
      " 65.69052214 47.20630254 43.50221984 28.61036956 42.43471596 38.47564501\n",
      " 50.85728807 32.44292483 16.8008     37.98770959 32.98468452 43.3566312\n",
      " 29.01413956 37.91105348 59.53075556 40.45707222 25.08854803 15.77554087\n",
      " 13.9426754  15.71547698 38.21422493 44.93065597 27.37413889 41.34886911\n",
      " 34.62240952 32.03256027 39.183464   52.07564821 42.42475836 37.8193662\n",
      " 52.49870417 42.39706429 37.131      42.87357814 28.98187261 14.75128571\n",
      " 55.34242817 44.93065597 40.12309506 29.42673074 23.50903367 31.43002321\n",
      " 28.60520909 57.11994167 54.50976862 48.51226934 48.16775424 24.8809784\n",
      " 45.34067382 58.72143095 39.85186894 48.71651008 36.48729734 26.89111105\n",
      " 24.69280195 22.74946429 41.22046422 24.85587369 45.99333128 49.94324343\n",
      " 41.31646505 47.73147106 48.74217093 23.8460358  26.56865761 55.65239167\n",
      " 37.99895453 68.96005    50.02844731 49.70197439 30.56532278 39.09679056\n",
      " 13.30238571 46.20431905 53.60660562 24.50934629 25.91746409 61.83128303\n",
      " 39.91293331 28.87294422 36.29139183 39.93150343 23.42396345 40.58739352\n",
      " 30.60203117 32.90883333 26.56865761 35.27723333 38.46940462 27.68067361\n",
      " 30.3002381  41.89505062 47.11978014 36.77081695 43.06501234 23.19052481\n",
      " 26.81200726 15.68953254 51.8782875  40.80217133 51.01475046 61.81770566]\n"
     ]
    }
   ],
   "source": [
    "# https://www.analyticsvidhya.com/blog/2020/01/build-your-first-machine-learning-pipeline-using-scikit-learn/\n",
    "\n",
    "# contains decent steps\n",
    "# https://github.com/collindching/Learning-Exercises/tree/master/Box%20Office%20Revenue%20Prediction\n",
    "\n",
    "# todo use scatterplots to find and remove outliers\n",
    "# todo standardize?\n",
    "\n",
    "# nothing null, no need for IMPUTERS\n",
    "print(np.where(pd.isnull(data)))\n",
    "\n",
    "from sklearn.compose import ColumnTransformer \n",
    "from sklearn.impute import SimpleImputer\n",
    "from sklearn.preprocessing import StandardScaler\n",
    "from sklearn.ensemble import RandomForestRegressor\n",
    "from sklearn.pipeline import Pipeline\n",
    "\n",
    "# separate X and Y values\n",
    "train_x = data.drop(columns=['Y house price of unit area'])\n",
    "train_y = data['Y house price of unit area']\n",
    "\n",
    "pre_process = ColumnTransformer(\n",
    "    remainder='passthrough',\n",
    "    transformers=[('drop_columns', 'drop', ['No'])],\n",
    ")\n",
    "\n",
    "# Define the Pipeline\n",
    "\"\"\"\n",
    "Step1: get the oultet binary columns\n",
    "Step2: pre processing\n",
    "Step3: Train a Random Forest Model\n",
    "\"\"\"\n",
    "model_pipeline = Pipeline(steps=[('pre_processing',pre_process),\n",
    "                                 ('random_forest', RandomForestRegressor(max_depth=10,random_state=2))\n",
    "                                 ])\n",
    "# fit the pipeline with the training data\n",
    "model_pipeline.fit(train_x,train_y)\n",
    "\n",
    "# predict target values on the training data\n",
    "print(model_pipeline.predict(train_x))\n",
    "\n",
    "# print(train_x)\n",
    "# print(train_y)"
   ]
  },
  {
   "cell_type": "markdown",
   "id": "specialized-closer",
   "metadata": {},
   "source": [
    "# Classification"
   ]
  },
  {
   "cell_type": "code",
   "execution_count": 90,
   "id": "practical-authentication",
   "metadata": {},
   "outputs": [
    {
     "name": "stdout",
     "output_type": "stream",
     "text": [
      "                                            Sentence  Label\n",
      "0  So there is no way for me to plug it in here i...      0\n",
      "1                        Good case, Excellent value.      1\n",
      "2                             Great for the jawbone.      1\n",
      "3  Tied to charger for conversations lasting more...      0\n",
      "4                                  The mic is great.      1\n",
      "(1000, 2)\n",
      "Sentence    0\n",
      "Label       0\n",
      "dtype: int64\n",
      "Sentence    object\n",
      "Label        int64\n",
      "dtype: object\n"
     ]
    },
    {
     "data": {
      "text/plain": [
       "<AxesSubplot:>"
      ]
     },
     "execution_count": 90,
     "metadata": {},
     "output_type": "execute_result"
    },
    {
     "data": {
      "image/png": "[encoded data removed]",
      "text/plain": [
       "<Figure size 432x288 with 1 Axes>"
      ]
     },
     "metadata": {
      "needs_background": "light"
     },
     "output_type": "display_data"
    }
   ],
   "source": [
    "import os\n",
    "from sklearn.preprocessing import FunctionTransformer\n",
    "\n",
    "from sklearn.feature_extraction.text import CountVectorizer\n",
    "from sklearn.feature_extraction.text import TfidfVectorizer\n",
    "from scipy import sparse\n",
    "\n",
    "from sklearn.model_selection import RandomizedSearchCV\n",
    "from sklearn.model_selection import GridSearchCV\n",
    "from sklearn.model_selection import ParameterGrid\n",
    "\n",
    "from sklearn.pipeline import FeatureUnion\n",
    "from sklearn.pipeline import Pipeline\n",
    "\n",
    "\n",
    "from sklearn.metrics import classification_report\n",
    "from sklearn.metrics import confusion_matrix\n",
    "from sklearn.metrics import precision_score\n",
    "from sklearn.metrics import recall_score\n",
    "from sklearn.metrics import accuracy_score\n",
    "from sklearn.metrics import fbeta_score\n",
    "\n",
    "from sklearn.dummy import DummyClassifier\n",
    "from sklearn.linear_model import LogisticRegression\n",
    "from sklearn.svm import SVR\n",
    "from sklearn.svm import SVC\n",
    "from sklearn.naive_bayes import BernoulliNB\n",
    "\n",
    "from sklearn import preprocessing\n",
    "\n",
    "from sklearn.base import BaseEstimator, TransformerMixin\n",
    "from sklearn.metrics import precision_recall_fscore_support as score\n",
    "\n",
    "import spacy\n",
    "import json\n",
    "\n",
    "import pandas as pd\n",
    "import matplotlib.pyplot as plt\n",
    "import numpy as np\n",
    "\n",
    "# https://github.com/nkanu17/reddit-text-classification/blob/master/Text_classification_reddit.ipynb\n",
    "    # read the data set\n",
    "notebook_path = os.path.abspath(\"Solution.ipynb\")\n",
    "source_path = os.path.join(os.path.dirname(notebook_path), \"datasets/classification/amazon_cells_labelled.txt\")\n",
    "df = pd.read_csv(source_path, sep='\\t', header=None, names=['Sentence', 'Label'])\n",
    "print(df.head())\n",
    "print(df.shape)\n",
    "\n",
    "print(df.isnull().sum())\n",
    "\n",
    "# lens = df[\"Sentence\"].str.len()\n",
    "# lens.hist(bins = np.arange(0,200,5))\n",
    "\n",
    "## OUTPUT\n",
    "## topic    0\n",
    "## title    1\n",
    "## dtype: int64\n",
    "\n",
    "# data = data.dropna()\n",
    "\n",
    "#https://docs.seldon.io/projects/seldon-core/en/latest/examples/sklearn_spacy_text_classifier_example.html\n",
    "print(df.dtypes)\n",
    "\n",
    "df[\"Label\"].value_counts().plot.bar()\n"
   ]
  },
  {
   "cell_type": "code",
   "execution_count": 95,
   "id": "roman-printer",
   "metadata": {},
   "outputs": [],
   "source": [
    "import spacy_sentence_bert\n",
    "\n",
    "# load one of the models listed at https://github.com/MartinoMensio/spacy-sentence-bert/\n",
    "nlp = spacy_sentence_bert.load_model('en_stsb_distilbert_base')"
   ]
  },
  {
   "cell_type": "code",
   "execution_count": 96,
   "id": "desperate-pantyhose",
   "metadata": {},
   "outputs": [],
   "source": [
    "df['vector'] = df['Sentence'].apply(lambda x: nlp(x).vector)\n"
   ]
  },
  {
   "cell_type": "code",
   "execution_count": 97,
   "id": "compound-college",
   "metadata": {},
   "outputs": [],
   "source": [
    "from sklearn.model_selection import train_test_split\n",
    "\n",
    "X_train, X_test, y_train, y_test = train_test_split(df['vector'].tolist(), df['Label'].tolist(), test_size=0.33, random_state=42)"
   ]
  },
  {
   "cell_type": "code",
   "execution_count": 99,
   "id": "deadly-membership",
   "metadata": {},
   "outputs": [
    {
     "name": "stdout",
     "output_type": "stream",
     "text": [
      "0.9151515151515152\n",
      "0.9121212121212121\n"
     ]
    }
   ],
   "source": [
    "from sklearn.svm import SVC\n",
    "\n",
    "clf = SVC(gamma='auto')\n",
    "clf.fit(X_train, y_train)\n",
    "y_pred = clf.predict(X_test)\n",
    "print(accuracy_score(y_test, y_pred))\n",
    "\n",
    "from sklearn.ensemble import RandomForestClassifier\n",
    "\n",
    "clf = RandomForestClassifier(max_depth=9, random_state=0)\n",
    "clf.fit(X_train, y_train)\n",
    "\n",
    "y_pred = clf.predict(X_test)\n",
    "print(accuracy_score(y_test, y_pred))"
   ]
  },
  {
   "cell_type": "code",
   "execution_count": 104,
   "id": "cultural-smart",
   "metadata": {},
   "outputs": [
    {
     "name": "stdout",
     "output_type": "stream",
     "text": [
      "Interesting take on Amazon\n",
      "True Label: 1, Predicted Label: 1 \n",
      "\n",
      "Bad design\n",
      "True Label: 0, Predicted Label: 0 \n",
      "\n",
      "test\n",
      "True Label: 0, Predicted Label: 0 \n",
      "\n"
     ]
    }
   ],
   "source": [
    "headlines = [\"Interesting take on Amazon\",\n",
    "            \"Bad design\",\n",
    "            \"test\"]\n",
    "labels = [1, 0, 0]\n",
    "\n",
    "for headline, label in zip(headlines, labels):\n",
    "  print(headline)\n",
    "  print(f\"True Label: {label}, Predicted Label: {clf.predict(nlp(headline).vector.reshape(1, -1))[0]} \\n\")"
   ]
  }
 ],
 "metadata": {
  "kernelspec": {
   "display_name": "Python 3 (ipykernel)",
   "language": "python",
   "name": "python3"
  },
  "language_info": {
   "codemirror_mode": {
    "name": "ipython",
    "version": 3
   },
   "file_extension": ".py",
   "mimetype": "text/x-python",
   "name": "python",
   "nbconvert_exporter": "python",
   "pygments_lexer": "ipython3",
   "version": "3.7.3"
  }
 },
 "nbformat": 4,
 "nbformat_minor": 5
}
