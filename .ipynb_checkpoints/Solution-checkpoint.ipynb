{
 "cells": [
  {
   "cell_type": "code",
   "execution_count": 355,
   "id": "valuable-nebraska",
   "metadata": {},
   "outputs": [
    {
     "name": "stdout",
     "output_type": "stream",
     "text": [
      "\u001b[33mWARNING: You are using pip version 21.2.3; however, version 22.0.4 is available.\r\n",
      "You should consider upgrading via the '/Users/lblachnicki/ml/my_env/bin/python3 -m pip install --upgrade pip' command.\u001b[0m\r\n"
     ]
    }
   ],
   "source": [
    "# Install a pip package in the current Jupyter kernel\n",
    "import sys\n",
    "os.environ[\"TOKENIZERS_PARALLELISM\"] = \"false\"\n",
    "\n",
    "!{sys.executable} -m pip install openpyxl tensorflow seaborn --quiet"
   ]
  },
  {
   "cell_type": "code",
   "execution_count": 351,
   "id": "palestinian-lesbian",
   "metadata": {},
   "outputs": [],
   "source": [
    "import os\n",
    "import pandas as pd\n",
    "import numpy as np\n",
    "\n",
    "from sklearn.linear_model import LinearRegression\n",
    "from sklearn.svm import SVC\n",
    "from sklearn.metrics import mean_absolute_error\n",
    "from sklearn.tree import DecisionTreeClassifier\n",
    "from sklearn.ensemble import RandomForestRegressor, RandomForestClassifier, GradientBoostingClassifier\n",
    "from sklearn.neighbors import LocalOutlierFactor\n",
    "from sklearn.model_selection import GridSearchCV, train_test_split\n",
    "from sklearn.linear_model import LogisticRegression\n",
    "from sklearn.compose import ColumnTransformer \n",
    "from sklearn.impute import SimpleImputer\n",
    "from sklearn.preprocessing import StandardScaler\n",
    "from sklearn.feature_extraction.text import CountVectorizer\n",
    "from sklearn.pipeline import Pipeline\n",
    "\n",
    "from scipy.stats import uniform, expon\n",
    "from scipy.stats import probplot\n",
    "\n",
    "import tensorflow as tf\n",
    "\n",
    "from tensorflow.keras.preprocessing.text import Tokenizer\n",
    "from tensorflow.keras.preprocessing.sequence import pad_sequences\n",
    "\n",
    "from tensorflow.keras.models import Sequential\n",
    "from tensorflow.keras import layers\n",
    "\n",
    "import matplotlib.pyplot as plt\n",
    "%matplotlib inline"
   ]
  },
  {
   "cell_type": "markdown",
   "id": "modified-video",
   "metadata": {},
   "source": [
    "• Familiarise yourself with the concept of supervised learning (regression, classification)\n",
    "• Familiarise yourself with the concept of unsupervised learning (clustering)\n",
    "• Design and implement a data preprocessing pipeline\n",
    "• Select the regression method and perform experiments on the data\n",
    "• Select the classification method and perform experiments on the data\n",
    "• Select the clustering method and perform experiments on the data\n",
    "• Modify the default parameter values in the methods and repeat the experiments"
   ]
  },
  {
   "cell_type": "markdown",
   "id": "practical-battery",
   "metadata": {},
   "source": [
    "## Design and implement a data preprocessing pipeline"
   ]
  },
  {
   "cell_type": "code",
   "execution_count": 407,
   "id": "satellite-monitor",
   "metadata": {},
   "outputs": [
    {
     "name": "stdout",
     "output_type": "stream",
     "text": [
      "(414, 7) (414,)\n"
     ]
    },
    {
     "data": {
      "image/png": "[encoded data removed]",
      "text/plain": [
       "<Figure size 1080x720 with 20 Axes>"
      ]
     },
     "metadata": {
      "needs_background": "light"
     },
     "output_type": "display_data"
    }
   ],
   "source": [
    "notebook_path = os.path.abspath(\"Solution.ipynb\")\n",
    "source_path = os.path.join(os.path.dirname(notebook_path), \"datasets/regression/Real estate valuation data set.xlsx\")\n",
    "df = pd.read_excel(source_path,engine='openpyxl')\n",
    "\n",
    "df.hist(layout=(5,4), figsize=(15,10))\n",
    "\n",
    "data = df.values\n",
    "\n",
    "X, y = data[:, :-1], data[:, -1]\n",
    "print(X.shape, y.shape)"
   ]
  },
  {
   "cell_type": "code",
   "execution_count": null,
   "id": "northern-profile",
   "metadata": {},
   "outputs": [],
   "source": [
    "# split into test and train sets\n",
    "X_train, X_test, y_train, y_test = train_test_split(X, y, test_size=0.33, random_state=1)\n",
    "print(X_train.shape, X_test.shape, y_train.shape, y_test.shape)"
   ]
  },
  {
   "cell_type": "code",
   "execution_count": 416,
   "id": "judicial-desperate",
   "metadata": {},
   "outputs": [],
   "source": [
    "# identify outliers in the training dataset\n",
    "lof = LocalOutlierFactor()\n",
    "yhat = lof.fit_predict(X_train)\n",
    "\n",
    "mask = yhat != -1"
   ]
  },
  {
   "cell_type": "code",
   "execution_count": 417,
   "id": "third-hearing",
   "metadata": {},
   "outputs": [
    {
     "ename": "IndexError",
     "evalue": "boolean index did not match indexed array along dimension 0; dimension is 271 but corresponding boolean dimension is 272",
     "output_type": "error",
     "traceback": [
      "\u001b[0;31m---------------------------------------------------------------------------\u001b[0m",
      "\u001b[0;31mIndexError\u001b[0m                                Traceback (most recent call last)",
      "\u001b[0;32m/var/folders/sm/x63tst796812s8kbs4bhgds80000gn/T/ipykernel_65099/671025117.py\u001b[0m in \u001b[0;36m<module>\u001b[0;34m\u001b[0m\n\u001b[1;32m      1\u001b[0m \u001b[0;31m# c = np.where(x<1,'k',np.where(y<5,'b','r'))\u001b[0m\u001b[0;34m\u001b[0m\u001b[0;34m\u001b[0m\u001b[0;34m\u001b[0m\u001b[0m\n\u001b[1;32m      2\u001b[0m \u001b[0moutliersX\u001b[0m \u001b[0;34m=\u001b[0m \u001b[0mX_train\u001b[0m\u001b[0;34m[\u001b[0m\u001b[0mnp\u001b[0m\u001b[0;34m.\u001b[0m\u001b[0minvert\u001b[0m\u001b[0;34m(\u001b[0m\u001b[0mmask\u001b[0m\u001b[0;34m)\u001b[0m\u001b[0;34m]\u001b[0m\u001b[0;34m\u001b[0m\u001b[0;34m\u001b[0m\u001b[0m\n\u001b[0;32m----> 3\u001b[0;31m \u001b[0moutliersY\u001b[0m \u001b[0;34m=\u001b[0m \u001b[0my_train\u001b[0m\u001b[0;34m[\u001b[0m\u001b[0mnp\u001b[0m\u001b[0;34m.\u001b[0m\u001b[0minvert\u001b[0m\u001b[0;34m(\u001b[0m\u001b[0mmask\u001b[0m\u001b[0;34m)\u001b[0m\u001b[0;34m]\u001b[0m\u001b[0;34m\u001b[0m\u001b[0;34m\u001b[0m\u001b[0m\n\u001b[0m\u001b[1;32m      4\u001b[0m \u001b[0;34m\u001b[0m\u001b[0m\n\u001b[1;32m      5\u001b[0m \u001b[0moutliersX\u001b[0m\u001b[0;34m,\u001b[0m \u001b[0moutliersY\u001b[0m \u001b[0;34m=\u001b[0m \u001b[0mX_train\u001b[0m\u001b[0;34m[\u001b[0m\u001b[0mnp\u001b[0m\u001b[0;34m.\u001b[0m\u001b[0minvert\u001b[0m\u001b[0;34m(\u001b[0m\u001b[0mmask\u001b[0m\u001b[0;34m)\u001b[0m\u001b[0;34m,\u001b[0m \u001b[0;34m:\u001b[0m\u001b[0;34m]\u001b[0m\u001b[0;34m,\u001b[0m \u001b[0my_train\u001b[0m\u001b[0;34m[\u001b[0m\u001b[0mnp\u001b[0m\u001b[0;34m.\u001b[0m\u001b[0minvert\u001b[0m\u001b[0;34m(\u001b[0m\u001b[0mmask\u001b[0m\u001b[0;34m)\u001b[0m\u001b[0;34m]\u001b[0m\u001b[0;34m\u001b[0m\u001b[0;34m\u001b[0m\u001b[0m\n",
      "\u001b[0;31mIndexError\u001b[0m: boolean index did not match indexed array along dimension 0; dimension is 271 but corresponding boolean dimension is 272"
     ]
    }
   ],
   "source": [
    "# c = np.where(x<1,'k',np.where(y<5,'b','r'))\n",
    "outliersX = X_train[np.invert(mask)]\n",
    "outliersY = y_train[np.invert(mask)]\n",
    "\n",
    "outliersX, outliersY = X_train[np.invert(mask), :], y_train[np.invert(mask)]\n",
    "print(len(X_train)) \n",
    "\n",
    "# plt.scatter(X_train[0], y_train)\n",
    "# plt.scatter(outliersX[0], outliersY, color='red')\n",
    "plt.scatter(x=X_train[0], y=y_train)\n",
    "\n",
    "plt.show()\n",
    "print(mask)"
   ]
  },
  {
   "cell_type": "code",
   "execution_count": 418,
   "id": "ceramic-guatemala",
   "metadata": {},
   "outputs": [
    {
     "ename": "IndexError",
     "evalue": "boolean index did not match indexed array along dimension 0; dimension is 271 but corresponding boolean dimension is 272",
     "output_type": "error",
     "traceback": [
      "\u001b[0;31m---------------------------------------------------------------------------\u001b[0m",
      "\u001b[0;31mIndexError\u001b[0m                                Traceback (most recent call last)",
      "\u001b[0;32m/var/folders/sm/x63tst796812s8kbs4bhgds80000gn/T/ipykernel_65099/1583820245.py\u001b[0m in \u001b[0;36m<module>\u001b[0;34m\u001b[0m\n\u001b[1;32m      1\u001b[0m \u001b[0;31m# select all rows that are not outliers\u001b[0m\u001b[0;34m\u001b[0m\u001b[0;34m\u001b[0m\u001b[0;34m\u001b[0m\u001b[0m\n\u001b[0;32m----> 2\u001b[0;31m \u001b[0mX_train\u001b[0m\u001b[0;34m,\u001b[0m \u001b[0my_train\u001b[0m \u001b[0;34m=\u001b[0m \u001b[0mX_train\u001b[0m\u001b[0;34m[\u001b[0m\u001b[0mmask\u001b[0m\u001b[0;34m,\u001b[0m \u001b[0;34m:\u001b[0m\u001b[0;34m]\u001b[0m\u001b[0;34m,\u001b[0m \u001b[0my_train\u001b[0m\u001b[0;34m[\u001b[0m\u001b[0mmask\u001b[0m\u001b[0;34m]\u001b[0m\u001b[0;34m\u001b[0m\u001b[0;34m\u001b[0m\u001b[0m\n\u001b[0m\u001b[1;32m      3\u001b[0m \u001b[0;31m# summarize the shape of the updated training dataset\u001b[0m\u001b[0;34m\u001b[0m\u001b[0;34m\u001b[0m\u001b[0;34m\u001b[0m\u001b[0m\n\u001b[1;32m      4\u001b[0m \u001b[0mprint\u001b[0m\u001b[0;34m(\u001b[0m\u001b[0mX_train\u001b[0m\u001b[0;34m.\u001b[0m\u001b[0mshape\u001b[0m\u001b[0;34m,\u001b[0m \u001b[0my_train\u001b[0m\u001b[0;34m.\u001b[0m\u001b[0mshape\u001b[0m\u001b[0;34m)\u001b[0m\u001b[0;34m\u001b[0m\u001b[0;34m\u001b[0m\u001b[0m\n\u001b[1;32m      5\u001b[0m \u001b[0;34m\u001b[0m\u001b[0m\n",
      "\u001b[0;31mIndexError\u001b[0m: boolean index did not match indexed array along dimension 0; dimension is 271 but corresponding boolean dimension is 272"
     ]
    }
   ],
   "source": [
    "# select all rows that are not outliers\n",
    "X_train, y_train = X_train[mask, :], y_train[mask]\n",
    "# summarize the shape of the updated training dataset\n",
    "print(X_train.shape, y_train.shape)\n",
    "\n",
    "# fit the model\n",
    "model = LinearRegression()\n",
    "model.fit(X_train, y_train)\n",
    "# evaluate the model\n",
    "yhat = model.predict(X_test)\n",
    "# evaluate predictions\n",
    "mae = mean_absolute_error(y_test, yhat)\n",
    "print('MAE: %.3f' % mae)"
   ]
  },
  {
   "cell_type": "code",
   "execution_count": null,
   "id": "handy-victor",
   "metadata": {},
   "outputs": [],
   "source": [
    "# https://www.analyticsvidhya.com/blog/2020/01/build-your-first-machine-learning-pipeline-using-scikit-learn/\n",
    "\n",
    "# contains decent steps\n",
    "# https://github.com/collindching/Learning-Exercises/tree/master/Box%20Office%20Revenue%20Prediction\n",
    "\n",
    "# todo use scatterplots to find and remove outliers\n",
    "# todo standardize?\n",
    "\n",
    "# nothing null, no need for IMPUTERS\n",
    "print(np.where(pd.isnull(data)))\n",
    "\n",
    "\n",
    "\n",
    "# separate X and Y values\n",
    "train_x = data.drop(columns=['Y house price of unit area'])\n",
    "train_y = data['Y house price of unit area']\n",
    "\n",
    "pre_process = ColumnTransformer(\n",
    "    remainder='passthrough',\n",
    "    transformers=[('drop_columns', 'drop', ['No'])],\n",
    ")\n",
    "\n",
    "# Define the Pipeline\n",
    "\"\"\"\n",
    "Step1: get the oultet binary columns\n",
    "Step2: pre processing\n",
    "Step3: Train a Random Forest Model\n",
    "\"\"\"\n",
    "model_pipeline = Pipeline(steps=[('pre_processing',pre_process),\n",
    "                                 ('random_forest', RandomForestRegressor(max_depth=10,random_state=2))\n",
    "                                 ])\n",
    "# fit the pipeline with the training data\n",
    "model_pipeline.fit(train_x,train_y)\n",
    "\n",
    "# predict target values on the training data\n",
    "print(model_pipeline.predict(train_x))\n",
    "\n",
    "# print(train_x)\n",
    "# print(train_y)"
   ]
  },
  {
   "cell_type": "markdown",
   "id": "mounted-petroleum",
   "metadata": {},
   "source": [
    "# Classification"
   ]
  },
  {
   "cell_type": "code",
   "execution_count": null,
   "id": "broadband-coordinate",
   "metadata": {},
   "outputs": [],
   "source": []
  },
  {
   "cell_type": "code",
   "execution_count": null,
   "id": "norman-grocery",
   "metadata": {},
   "outputs": [],
   "source": [
    "notebook_path = os.path.abspath(\"Solution.ipynb\")\n",
    "\n",
    "amazon_source_path = os.path.join(os.path.dirname(notebook_path), \"datasets/classification/amazon_cells_labelled.txt\")\n",
    "imdb_source_path = os.path.join(os.path.dirname(notebook_path), \"datasets/classification/imdb_labelled.txt\")\n",
    "yelp_source_path = os.path.join(os.path.dirname(notebook_path), \"datasets/classification/yelp_labelled.txt\")\n",
    "\n",
    "datasets = {\n",
    "    'amazon': pd.read_csv(amazon_source_path, delimiter='\\t', header=None, names=[\"text\",\"label\"]),\n",
    "    'imdb': pd.read_csv(imdb_source_path, delimiter='\\t', header=None, names=[\"text\",\"label\"]),\n",
    "    'yelp': pd.read_csv(yelp_source_path, delimiter='\\t', header=None, names=[\"text\",\"label\"]),\n",
    "}\n",
    "\n",
    "for dataset in datasets:\n",
    "    print(f\"Dataset {str(dataset)}:\")\n",
    "    print(\"Shape: \" + str(datasets[dataset].shape))\n",
    "    print(datasets[dataset].head())\n",
    "    print(datasets[dataset].info())\n",
    "    print(datasets[dataset].describe())\n",
    "    print(\"--------------------------------------------------\\n\")\n"
   ]
  },
  {
   "cell_type": "code",
   "execution_count": null,
   "id": "regional-zealand",
   "metadata": {},
   "outputs": [],
   "source": [
    "# merge datasets\n",
    "datasets[\"amazon\"][\"source\"] = 'amazon'\n",
    "datasets[\"imdb\"][\"source\"] = 'imdb'\n",
    "datasets[\"yelp\"][\"source\"] = 'yelp'\n",
    "\n",
    "data = pd.concat(list(datasets.values()))\n",
    "\n",
    "data.shape"
   ]
  },
  {
   "cell_type": "code",
   "execution_count": null,
   "id": "specified-bracket",
   "metadata": {},
   "outputs": [],
   "source": [
    "data['source'].value_counts().plot(kind='pie', \n",
    "                                   autopct='%1.0f%%',\n",
    "                                   shadow=True, \n",
    "                                   startangle=90, \n",
    "                                   pctdistance=0.85,\n",
    "                                   explode = (0.1,0.1,0.1),\n",
    "                                   colors = ['#f19100','#f21919','#e2b616'],\n",
    "                                   figsize=(5, 5))"
   ]
  },
  {
   "cell_type": "code",
   "execution_count": null,
   "id": "quarterly-pantyhose",
   "metadata": {},
   "outputs": [],
   "source": [
    "data.label.value_counts().plot(kind='pie', \n",
    "                                   autopct='%1.0f%%',\n",
    "                                   shadow=True, \n",
    "                                   startangle=180, \n",
    "                                   pctdistance=0.85,\n",
    "                                   explode = (0.05,0.05),\n",
    "                                   colors = ['#5cb696','#e4565c'],\n",
    "                                   figsize=(5, 5))"
   ]
  },
  {
   "cell_type": "markdown",
   "id": "selected-breed",
   "metadata": {},
   "source": [
    "## Preprocessing"
   ]
  },
  {
   "cell_type": "code",
   "execution_count": null,
   "id": "fuzzy-comparison",
   "metadata": {},
   "outputs": [],
   "source": [
    "sentences = data['text'].values\n",
    "y = data['label'].values\n",
    "\n",
    "# diviser les données\n",
    "sentences_train, sentences_test, y_train, y_test = train_test_split(sentences, y, \n",
    "                                                                    test_size=0.25, \n",
    "                                                                    random_state=1000, \n",
    "                                                                    shuffle=True)\n",
    "train_sentences = np.array(sentences_train)\n",
    "train_labels = np.array(y_train)\n",
    "train = pd.DataFrame({'label': train_labels, 'text': list(train_sentences)}, columns=['label', 'text'])\n",
    "\n",
    "# verifying that trianing set is split evenly\n",
    "train.label.value_counts().plot(kind='pie', \n",
    "                                   autopct='%1.0f%%',\n",
    "                                   shadow=True, \n",
    "                                   startangle=180, \n",
    "                                   pctdistance=0.85,\n",
    "                                   explode = (0.05,0.05),\n",
    "                                   colors = ['#5cb696','#e4565c'],\n",
    "                                   figsize=(5, 5))"
   ]
  },
  {
   "cell_type": "markdown",
   "id": "varying-shark",
   "metadata": {},
   "source": [
    "## Vectorization of text"
   ]
  },
  {
   "cell_type": "code",
   "execution_count": null,
   "id": "tired-mailing",
   "metadata": {},
   "outputs": [],
   "source": [
    "sample_text = data['text'][:3]\n",
    "for text in sample_text: print(text)\n",
    "    \n",
    "vectorizer = CountVectorizer(min_df=0, lowercase=False)\n",
    "vectorizer.fit(sample_text)\n",
    "vectorizer.vocabulary_\n",
    "\n"
   ]
  },
  {
   "cell_type": "code",
   "execution_count": null,
   "id": "sharing-albania",
   "metadata": {},
   "outputs": [],
   "source": [
    "vectorizer.transform(sample_text).toarray()"
   ]
  },
  {
   "cell_type": "code",
   "execution_count": null,
   "id": "opponent-privacy",
   "metadata": {},
   "outputs": [],
   "source": [
    "vectorizer = CountVectorizer()\n",
    "vectorizer.fit(sentences_train)\n",
    "\n",
    "X_train = vectorizer.transform(sentences_train)\n",
    "X_test  = vectorizer.transform(sentences_test)\n",
    "\n",
    "vectorizer.vocabulary_"
   ]
  },
  {
   "cell_type": "code",
   "execution_count": null,
   "id": "promising-reduction",
   "metadata": {},
   "outputs": [],
   "source": [
    "def prediction(model_name):\n",
    "    for dataframe in datasets.values():\n",
    "        Sentences = dataframe['text'].values\n",
    "        Y = dataframe['label'].values\n",
    "\n",
    "        Sentences_train, Sentences_test, Y_train, Y_test = train_test_split(\n",
    "            Sentences, Y, test_size=0.25, random_state=1000)\n",
    "        vectorizer = CountVectorizer(stop_words='english')\n",
    "        vectorizer.fit(sentences_train)\n",
    "        x_train = vectorizer.transform(Sentences_train)\n",
    "        x_test  = vectorizer.transform(Sentences_test)\n",
    "\n",
    "        model = models[model_name]\n",
    "        model.fit(x_train, Y_train)\n",
    "        score = model.score(x_test, Y_test)\n",
    "        print('Accuracy for {} data with {} model is: {:.2f} %'.format(dataframe['source'][0],model_name, (score*100)))\n",
    "    print('\\n'+('-'*70)+'\\n')\n",
    "    \n",
    "    \n",
    "models = {\"Logistic Regression\": LogisticRegression(),\n",
    "          \"Support Vector Machine\": SVC(),\n",
    "          \"Decision Tree\": DecisionTreeClassifier(),\n",
    "          \"Gradient Boosting\": GradientBoostingClassifier(n_estimators=100, max_depth=100, random_state=5000),\n",
    "          \"Random Forest\": RandomForestClassifier(max_depth=200, random_state=1000)\n",
    "         }\n",
    "\n",
    "for model in models: prediction(model)"
   ]
  },
  {
   "cell_type": "code",
   "execution_count": null,
   "id": "legislative-anxiety",
   "metadata": {},
   "outputs": [],
   "source": [
    "description = \"hello man nice bad awful\"\n",
    "\n",
    "desc = vectorizer.transform([description])\n",
    "\n",
    "\n",
    "Sentences = data['text'].values\n",
    "Y = data['label'].values\n",
    "\n",
    "model = SVC()\n",
    "Sentences_train, Sentences_test, Y_train, Y_test = train_test_split(\n",
    "    Sentences, Y, test_size=0.25, random_state=1000)\n",
    "vectorizer = CountVectorizer(stop_words='english')\n",
    "vectorizer.fit(sentences_train)\n",
    "x_train = vectorizer.transform(Sentences_train)\n",
    "x_test  = vectorizer.transform(Sentences_test)\n",
    "\n",
    "model.fit(x_train, Y_train)\n",
    "score = model.score(x_test, Y_test)\n",
    "print('Accuracy is: {:.2f} %'.format((score*100)))\n",
    "print('\\n'+('-'*70)+'\\n')\n",
    "\n",
    "model.predict(desc)\n",
    "#https://www.kaggle.com/code/kobeerose/sentiment-analysis\n"
   ]
  },
  {
   "cell_type": "markdown",
   "id": "committed-water",
   "metadata": {},
   "source": [
    "# Clustering"
   ]
  },
  {
   "cell_type": "code",
   "execution_count": null,
   "id": "necessary-survival",
   "metadata": {},
   "outputs": [],
   "source": [
    "notebook_path = os.path.abspath(\"Solution.ipynb\")\n",
    "# https://www.kaggle.com/code/jackfroster/heart-failure-prediction-clustering-approach\n",
    "source_path = os.path.join(os.path.dirname(notebook_path), \"datasets/clustering/heart_failure_clinical_records_dataset.csv\")\n",
    "\n",
    "df = pd.read_csv(source_path)\n",
    "\n",
    "# print(df)\n",
    "\n",
    "df.hist(layout=(5,4), figsize=(15,10))"
   ]
  },
  {
   "cell_type": "code",
   "execution_count": null,
   "id": "marine-consultancy",
   "metadata": {},
   "outputs": [],
   "source": [
    "import seaborn as sns\n",
    "\n",
    "plt.figure(figsize=(15,15))\n",
    "sns.heatmap(df.corr(), annot=True);"
   ]
  },
  {
   "cell_type": "code",
   "execution_count": null,
   "id": "interesting-funeral",
   "metadata": {},
   "outputs": [],
   "source": [
    "\n",
    "\n",
    "X = df.iloc[:,:-1]\n",
    "y = df.iloc[:,-1]\n",
    "\n",
    "X_train,X_test,y_train,y_test = train_test_split(X,y,test_size=0.3,random_state=3)\n",
    "\n",
    "pipe = Pipeline(steps=[(\"scaler\", StandardScaler()), (\"estimator\", LogisticRegression())])\n",
    "\n",
    "grid = {\n",
    "    'estimator__penalty': ['l1', 'l2'],\n",
    "    'estimator__C': np.logspace(-3,3,10),\n",
    "    'estimator__class_weight': ['balanced', None],\n",
    "    'estimator__solver': ['liblinear', 'saga'],\n",
    "}\n",
    "\n",
    "logreg_cv = GridSearchCV(pipe, grid, cv=10, verbose=0, n_jobs=-1)\n",
    "logreg_cv.fit(X_train, y_train)\n",
    "print(\"best hyperparameters:\",logreg_cv.best_params_)\n",
    "print(\"score:\",logreg_cv.best_score_)\n",
    "\n",
    "# In case of linear model (Logistic Regression,Linear Regression, Regularization) we generally find coefficient to predict the output.let’s understand it by code.\n",
    "importance=logreg_cv.best_estimator_['estimator'].coef_[0]\n",
    "importance=np.exp(importance)\n",
    "\n",
    "result = np.array(list(zip(df.columns.values, importance)))\n",
    "result=result[np.argsort(result[:, 1])]\n",
    "print(result)\n",
    "\n",
    "d = dict({\n",
    "    'age': 20,\n",
    "    'anaemia': 1,\n",
    "    'creatinine_phosphokinase': 80,\n",
    "    'diabetes': 0,\n",
    "    'ejection_fraction': 30,\n",
    "    'high_blood_pressure': 1,\n",
    "    'platelets': 427000,\n",
    "    'serum_creatinine': 1,\n",
    "    'serum_sodium': 138,\n",
    "    'sex': 0,\n",
    "    'smoking': 0,\n",
    "    'time': 12,\n",
    "})\n",
    "\n",
    "prediction = logreg_cv.predict(np.array(list(d.values())).reshape(1,-1))\n",
    "print('alive' if prediction[0] == 0 else 'dead')\n",
    "\n",
    "# # https://towardsdatascience.com/interpreting-coefficients-in-linear-and-logistic-regression-6ddf1295f6f1\n",
    "# for label, value in result:\n",
    "#     print(\"Feature: {} has importance: {} \".format(label,value))\n",
    "\n"
   ]
  }
 ],
 "metadata": {
  "kernelspec": {
   "display_name": "Python 3 (ipykernel)",
   "language": "python",
   "name": "python3"
  },
  "language_info": {
   "codemirror_mode": {
    "name": "ipython",
    "version": 3
   },
   "file_extension": ".py",
   "mimetype": "text/x-python",
   "name": "python",
   "nbconvert_exporter": "python",
   "pygments_lexer": "ipython3",
   "version": "3.7.3"
  }
 },
 "nbformat": 4,
 "nbformat_minor": 5
}
